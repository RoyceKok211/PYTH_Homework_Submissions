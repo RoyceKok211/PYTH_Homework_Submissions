{
  "nbformat": 4,
  "nbformat_minor": 0,
  "metadata": {
    "colab": {
      "name": "Homework 4 July 2 classes_pset.ipynb",
      "version": "0.3.2",
      "provenance": [],
      "collapsed_sections": []
    },
    "kernelspec": {
      "name": "python3",
      "display_name": "Python 3"
    }
  },
  "cells": [
    {
      "cell_type": "markdown",
      "metadata": {
        "id": "CqskI0XiRR5A",
        "colab_type": "text"
      },
      "source": [
        "<a href=\"https://colab.research.google.com/github/mottaquikarim/PYTH2/blob/master/src/PSETS/nb/classes_pset.ipynb\" target=\"_parent\"><img src=\"https://colab.research.google.com/assets/colab-badge.svg\" alt=\"Open In Colab\"/></a>"
      ]
    },
    {
      "cell_type": "markdown",
      "metadata": {
        "id": "e6YlTJY7RR5C",
        "colab_type": "text"
      },
      "source": [
        "#  CLASSES\n",
        "\n",
        "## CLASS_BASICS\n",
        "\n",
        "### P1.PY\n",
        "\n",
        "\n"
      ]
    },
    {
      "cell_type": "code",
      "metadata": {
        "id": "hD_Tn1e7RR5C",
        "colab_type": "code",
        "colab": {}
      },
      "source": [
        "\"\"\"\n",
        "RGB to HEX\n",
        "\"\"\"\n",
        "\n",
        "# Remember our function \"rgb_hex\" from the functions pset? That function took a color in rgb format and returned it in hex format as well as vice versa. Wouldn't it be so much easier to do that with a class called Color?\n",
        "\n",
        "# Define a class called \"Color\" to store each color's rgb and hex values. Define a method called \"convert_codes()\" to retrieve one value given the other. Create at least one instance of Color and try the convert_codes() method.\n",
        "\n"
      ],
      "execution_count": 0,
      "outputs": []
    },
    {
      "cell_type": "markdown",
      "metadata": {
        "id": "67sPnKnpRR5F",
        "colab_type": "text"
      },
      "source": [
        "\n",
        "\n",
        "### P2.PY\n",
        "\n",
        "\n"
      ]
    },
    {
      "cell_type": "code",
      "metadata": {
        "id": "W7wHVS6TRR5G",
        "colab_type": "code",
        "colab": {
          "base_uri": "https://localhost:8080/",
          "height": 34
        },
        "outputId": "d3c310eb-c581-4409-c00e-db8eba93fdd3"
      },
      "source": [
        "\"\"\"\n",
        "Phone Contacts\n",
        "\"\"\" \n",
        "\n",
        "# Create a class called \"Contact\" that will store the below items for each contact in your phone. The starred items should be required.\n",
        "    ### name*\n",
        "    ### mobile_num\n",
        "    ### work_num\n",
        "    ### email\n",
        "    \n",
        "    \n",
        "    \n",
        "class Contact:                                     \n",
        "  def __init__(self, name, mobile_num = True, work_num = True, email = True):                 \n",
        "    self.name = name\n",
        "    self.mobile_num = mobile_num\n",
        "    self.work_num = work_num\n",
        "    self.email = email\n",
        "    \n",
        "  def intro(self):\n",
        "    return f\"Hi, my name is {self.name} , my mobile_num is {self.mobile_num} , my work_num is {self.work_num} and my email is {self.email}\"\n",
        "  \n",
        "  \n",
        "Jacob = Contact('Jacob Newlin', 5045647821, 12345677891, 'jnewlin@gmail.com')\n",
        "\n",
        "print(Jacob.intro())\n",
        "\n"
      ],
      "execution_count": 1,
      "outputs": [
        {
          "output_type": "stream",
          "text": [
            "Hi, my name is Jacob Newlin , my mobile_num is 5045647821 , my work_num is 12345677891 and my email is jnewlin@gmail.com\n"
          ],
          "name": "stdout"
        }
      ]
    },
    {
      "cell_type": "markdown",
      "metadata": {
        "id": "myNEgAivRR5I",
        "colab_type": "text"
      },
      "source": [
        "\n",
        "\n",
        "### P3.PY\n",
        "\n",
        "\n"
      ]
    },
    {
      "cell_type": "code",
      "metadata": {
        "id": "y_8ZmC3cRR5I",
        "colab_type": "code",
        "colab": {
          "base_uri": "https://localhost:8080/",
          "height": 51
        },
        "outputId": "0c47f7ee-6edb-42c2-f213-37bd31883b9b"
      },
      "source": [
        "\"\"\"\n",
        "Rectangle\n",
        "\"\"\"\n",
        "\n",
        "# Write a Python class named \"Rectangle\" constructed by values for length and width. \n",
        "# It should include two methods to calculate the \"area\" and the \"perimeter\" of a rectangle. \n",
        "# Instantiate a Rectangle and call both methods.\n",
        "\n",
        "    \n",
        "class Rectangle:                                     \n",
        "  def __init__(self, length, width):                 \n",
        "    self.length = length\n",
        "    self.width = width\n",
        "    \n",
        "  def area(self):\n",
        "    area = self.length * self.width\n",
        "    return f\"The area of the rectangle is {area}.\" \n",
        "  \n",
        "  def perimeter(self):\n",
        "    perimeter = (2* self.length) + (2*self.width)\n",
        "    return f\"The perimeter of the rectangle is {perimeter}.\" \n",
        "  \n",
        "sample1 = Rectangle(4,5)\n",
        "\n",
        "print(sample1.area())\n",
        "print(sample1.perimeter())\n"
      ],
      "execution_count": 10,
      "outputs": [
        {
          "output_type": "stream",
          "text": [
            "The area of the rectangle is 20.\n",
            "The perimeter of the rectangle is 18.\n"
          ],
          "name": "stdout"
        }
      ]
    },
    {
      "cell_type": "markdown",
      "metadata": {
        "id": "VT_dIchwRR5K",
        "colab_type": "text"
      },
      "source": [
        "\n",
        "\n",
        "### P4.PY\n",
        "\n",
        "\n"
      ]
    },
    {
      "cell_type": "code",
      "metadata": {
        "id": "oiDxmsXzRR5K",
        "colab_type": "code",
        "colab": {
          "base_uri": "https://localhost:8080/",
          "height": 51
        },
        "outputId": "dadbd02c-3db2-4cd9-b81a-17349bb294d2"
      },
      "source": [
        "\"\"\"\n",
        "Circle\n",
        "\"\"\"\n",
        "\n",
        "# Write a Python class named \"Circle\" constructed by a radius value and a class attribute for pi. \n",
        "# You can use 3.14159 for the value of pi for simplicity. \n",
        "# It should include two methods to calculate the \"area\" and the \"perimeter\" of a circle. Instantiate a Circle and call both methods.\n",
        "\n",
        "class Circle:      \n",
        "  pi = 3.14159\n",
        "  \n",
        "  def __init__(self, radius):                 \n",
        "    self.r = radius\n",
        "    \n",
        "  def area(self):\n",
        "    area = self.pi * self.r**2\n",
        "    return f\"The area of the circle is {area}.\" \n",
        "  \n",
        "  def perimeter(self):\n",
        "    perimeter = 2 *self.pi * (self.r)\n",
        "    return f\"The perimeter of the circle is {perimeter}.\" \n",
        "  \n",
        "sample1 = Circle(4)\n",
        "\n",
        "print(sample1.area())\n",
        "print(sample1.perimeter())"
      ],
      "execution_count": 14,
      "outputs": [
        {
          "output_type": "stream",
          "text": [
            "The area of the circle is 50.26544.\n",
            "The perimeter of the circle is 25.13272.\n"
          ],
          "name": "stdout"
        }
      ]
    },
    {
      "cell_type": "markdown",
      "metadata": {
        "id": "hG4nw6ElRR5M",
        "colab_type": "text"
      },
      "source": [
        "\n",
        "\n",
        "### P5.PY\n",
        "\n",
        "\n"
      ]
    },
    {
      "cell_type": "code",
      "metadata": {
        "id": "dU5tOFLcRR5N",
        "colab_type": "code",
        "colab": {
          "base_uri": "https://localhost:8080/",
          "height": 34
        },
        "outputId": "5d17c1f3-cb00-46a3-ac90-4add0945682f"
      },
      "source": [
        "\"\"\"\n",
        "Vehicles I \n",
        "\"\"\"\n",
        "\n",
        "# Create a \"Vehicle\" class with a class attribute for category ('transportion') and \n",
        "# a method called \"start_engine()\" that prints \"Vroom!\". Add \"name\" as an instance method and instantiate a \n",
        "# Vehicle called \"submarine\". Access all its attributes and methods for practice.\n",
        "\n",
        "# Note: See Vehicles II in p6 for an explanation of why we chose \"submarine\" as a vehicle instance!\n",
        "\n",
        "\n",
        "class Vehicle:  \n",
        "  hi = \"\"\n",
        "  def __init__(self, radius):                 \n",
        "    self.r = radius\n",
        "    \n",
        "  def start_engine(self):\n",
        "    return f\"Vroom!.\" \n",
        "  \n",
        "sample1 = Vehicle(4)\n",
        "\n",
        "print(sample1.start_engine())\n",
        "\n"
      ],
      "execution_count": 15,
      "outputs": [
        {
          "output_type": "stream",
          "text": [
            "Vroom!.\n"
          ],
          "name": "stdout"
        }
      ]
    },
    {
      "cell_type": "markdown",
      "metadata": {
        "id": "OWQqIN3ARR5P",
        "colab_type": "text"
      },
      "source": [
        "\n",
        "\n",
        "### P6.PY\n",
        "\n",
        "\n"
      ]
    },
    {
      "cell_type": "code",
      "metadata": {
        "id": "as8mjbt2RR5P",
        "colab_type": "code",
        "colab": {}
      },
      "source": [
        "\"\"\"\n",
        "Vehicles II\n",
        "\"\"\"\n",
        "\n",
        "# Define 3 unique child classes for Vehicle - Car, Plane, and Boat. \n",
        "#Each of these should have its own class attributes for \"motion\" and \"terrain\". \n",
        "#(For Car, these would be something like \"drive\" and \"land\".)\n",
        "\n",
        "## For Car, define a method called \"honk_horn()\" that prints \"HONK!\"\n",
        "## For Plane, define a method called \"take_off()\" that prints \"Fasten your seatbelts!\"\n",
        "## For Boat, define a method called \"drop_achor()\" that prints \"Anchors away!\"\n",
        "\n",
        "# Create an instance of each child class. Access all their attributes and methods, including those inherited \n",
        "# from their parent class Vehicle.\n",
        "\n",
        "# TAKEAWAY! - Vehicle is the baseline class for other more specific types of vehicles. \n",
        "# Typically, you wouldn't instantiate a Vehicle because the child classes are more useful for storing information about vehicles.\n",
        "# The Vehicle class serves to create a relationship between its children. However, \"submarine\" \n",
        "# might be created as a Vehicle because it's so rare that you might not need a full Submarine class!\n",
        "\n",
        "class Vehicle:  \n",
        "  \n",
        "  def __init__(self,r):                 \n",
        "    self.r = radius\n",
        "    \n",
        "  def star_engine(self):\n",
        "    return f\"Vroom!.\" \n",
        "  \n",
        "class Car(Vehicle):\n",
        "  motion = 'drive'\n",
        "  terrain = 'land'\n",
        "  \n",
        "  def honk_horn():\n",
        "    print(\"HONK!\")\n",
        "    \n",
        "\n",
        "class Plane(Vehicle):\n",
        "  motion = 'drive'\n",
        "  terrain = 'land'\n",
        "  \n",
        "  def take_off():\n",
        "    print(\"Fasten your seatbelts\")\n",
        "  \n",
        "class Boat(Vehicle):\n",
        "  motion = 'drive'\n",
        "  terrain = 'land'\n",
        "  \n",
        "  def drop_anchor():\n",
        "    print(\"Anchors away!\")\n",
        "\n",
        "  \n",
        "sample1 = Vehicle(4)\n",
        "\n",
        "print(sample1.start_engine())\n"
      ],
      "execution_count": 0,
      "outputs": []
    },
    {
      "cell_type": "markdown",
      "metadata": {
        "id": "WccT4bE0RR5R",
        "colab_type": "text"
      },
      "source": [
        "\n",
        "\n",
        "### P7.PY\n",
        "\n",
        "\n"
      ]
    },
    {
      "cell_type": "code",
      "metadata": {
        "id": "fgJW7ee1RR5R",
        "colab_type": "code",
        "colab": {}
      },
      "source": [
        "\"\"\"\n",
        "Vehicles III\n",
        "\"\"\"\n",
        "\n",
        "# Let's expand the Car class to be more comprehensive. Include attributes for brand name, plates, owner, fuel, fuel_level \n",
        "# (a numerical amount that defaults to 50, and max speed in MPH that defaults to None. \n",
        "\n",
        "# Next, define new method called \"check_fuel_level()\". If the fuel_level attribute is < 15, \n",
        "# the method should reset fuel_level to 50 and print out how many units it refueled the car, e.g. 'Refueled 38 units.' \n",
        "# Otherwise, it should simply print 'No need to refuel right now.'\n",
        "\n",
        "# Create at least TWO instances of Car, one of which has a fuel level below 15. Access the new attributes \n",
        "# and call the check_fuel_level() method for each instance. "
      ],
      "execution_count": 0,
      "outputs": []
    },
    {
      "cell_type": "markdown",
      "metadata": {
        "id": "SxCY4_1ERR5U",
        "colab_type": "text"
      },
      "source": [
        "\n",
        "\n",
        "### P8.PY\n",
        "\n",
        "\n"
      ]
    },
    {
      "cell_type": "code",
      "metadata": {
        "id": "ZfO_YAEtRR5V",
        "colab_type": "code",
        "colab": {}
      },
      "source": [
        "\"\"\"\n",
        "Dogs I - Breeds\n",
        "\"\"\" \n",
        "\n",
        "# A) Create a class called \"Dog\". It should include: \n",
        "### A class attribute \"domesticated\" w. value True\n",
        "### An instance method called \"bark()\" that prints \"Woof!\"\n",
        "\n",
        "# B) Create child class for 3 dog breeds - Collie, Siberian Husky, and Pekingese. Each should have:\n",
        "### 2 class attributes for \"breed\" and \"temperament\". The latter should be a list.\n",
        "### 3 instance attributes for \"name\", \"age\", and \"gender\".\n",
        "\n",
        "# C) Add an instance method to Collie called \"herd_the_kids()\" that prints \"Here are your children!\"\n",
        "\n",
        "# D) Add an instance method called \"bark()\" to Pekingese. This should override the parent method \"bark()\"\n",
        "# such that when you call bark() on an instance of Pekingese, it prints \"Yap!\" instead.\n",
        "\n",
        "# E) Instantiate one of each breed. Access the attributes, methods, and parent methods of each one. \n",
        "# BONUS: Aside from herd_the_kids(), you should be able to do this in a loop.\n",
        "\n",
        "\n"
      ],
      "execution_count": 0,
      "outputs": []
    },
    {
      "cell_type": "markdown",
      "metadata": {
        "id": "n7JAPJuYRR5W",
        "colab_type": "text"
      },
      "source": [
        "\n",
        "\n",
        "### P9.PY\n",
        "\n",
        "\n"
      ]
    },
    {
      "cell_type": "code",
      "metadata": {
        "id": "KWQuQbq1RR5Y",
        "colab_type": "code",
        "colab": {}
      },
      "source": [
        "\"\"\"\n",
        "Dogs II - Tricks (CHALLENGE!)\n",
        "\"\"\"\n",
        "\n",
        "# Many dogs know how to do common tricks or follow common commands. You could create methods for each trick/command \n",
        "# in the Dog parent class, but the problem is that not all dogs know all tricks/commands. \n",
        "\n",
        "# However, it would be inefficient to define a custom set of instance methods for tricks/commands every time you \n",
        "# instantiate a unique Collie (or SiberianHuskey or Pekingese etc.).\n",
        "\n",
        "# Find an efficient way to specify which tricks each unique dog knows and to call them. You can use \"roll_over\", \"fetch\", \n",
        "# \"shake_hands\", and \"spin\". Secondly, find a way to teach a dog new trick from this set.\n",
        "\n",
        "\n"
      ],
      "execution_count": 0,
      "outputs": []
    },
    {
      "cell_type": "markdown",
      "metadata": {
        "id": "o7gtNBICRR5a",
        "colab_type": "text"
      },
      "source": [
        "\n",
        "\n",
        "## CLASS_BASICS_2\n",
        "\n",
        "### P1.PY\n",
        "\n",
        "\n"
      ]
    },
    {
      "cell_type": "code",
      "metadata": {
        "id": "5MypfA9sRR5b",
        "colab_type": "code",
        "colab": {
          "base_uri": "https://localhost:8080/",
          "height": 34
        },
        "outputId": "011c2258-d7eb-4164-e3de-cbb23a914bf9"
      },
      "source": [
        "\"\"\"\n",
        "Dog Class\n",
        "\"\"\"\n",
        "\n",
        "# Implement a class called \"Dog\" with the following properties:\n",
        "# name\n",
        "# breed\n",
        "# age\n",
        "\n",
        "\n",
        "class Dog:                                     \n",
        "  def __init__(self, name, breed, age):                 \n",
        "    self.name = name\n",
        "    self.breed = breed\n",
        "    self.age = age\n",
        "    \n",
        "  def intro(self):\n",
        "    return f\"Hi, my name is {self.name} , and I am a {self.breed}, and my age is {self.age}\"\n",
        "  \n",
        "  \n",
        "dog1 = Dog('Broccoli XXVI', 'cocker spaniel', 8)\n",
        "\n",
        "print(dog1.intro())"
      ],
      "execution_count": 16,
      "outputs": [
        {
          "output_type": "stream",
          "text": [
            "Hi, my name is Broccoli XXVI , and I am a cocker spaniel, and my age is 8\n"
          ],
          "name": "stdout"
        }
      ]
    },
    {
      "cell_type": "markdown",
      "metadata": {
        "id": "QK2wmjmURR5d",
        "colab_type": "text"
      },
      "source": [
        "\n",
        "\n",
        "### P2.PY\n",
        "\n",
        "\n"
      ]
    },
    {
      "cell_type": "code",
      "metadata": {
        "id": "6KA7LJHzRR5e",
        "colab_type": "code",
        "colab": {
          "base_uri": "https://localhost:8080/",
          "height": 51
        },
        "outputId": "25da419f-608d-41bc-fcb3-48fcfda78ae6"
      },
      "source": [
        "\"\"\"\n",
        "Cat class\n",
        "\"\"\"\n",
        "\n",
        "# Implement a class called \"Cat\" with the following properties:\n",
        "# name\n",
        "# breed\n",
        "# age\n",
        "\n",
        "# also, implement a method called \"speak\" that should print out \"purr\"\n",
        "\n",
        "class Cat:                                     \n",
        "  def __init__(self, name, breed, age):                 \n",
        "    self.name = name\n",
        "    self.breed = breed\n",
        "    self.age = age\n",
        "    \n",
        "  def intro(self):\n",
        "    return f\"Hi, my name is {self.name} , and I am a {self.breed}, and my age is {self.age}\"\n",
        "  \n",
        "  def speak(self):\n",
        "    return f\"Purr\" \n",
        "  \n",
        "cat1 = Cat('Broccoli XXVI', 'cocker spaniel', 8)\n",
        "\n",
        "print(cat1.intro())\n",
        "print(cat1.speak())\n"
      ],
      "execution_count": 17,
      "outputs": [
        {
          "output_type": "stream",
          "text": [
            "Hi, my name is Broccoli XXVI , and I am a cocker spaniel, and my age is 8\n",
            "Purr\n"
          ],
          "name": "stdout"
        }
      ]
    },
    {
      "cell_type": "markdown",
      "metadata": {
        "id": "SnUFT7S9RR5f",
        "colab_type": "text"
      },
      "source": [
        "\n",
        "\n",
        "### P3.PY\n",
        "\n",
        "\n"
      ]
    },
    {
      "cell_type": "code",
      "metadata": {
        "id": "7J5OUwCsRR5g",
        "colab_type": "code",
        "colab": {
          "base_uri": "https://localhost:8080/",
          "height": 68
        },
        "outputId": "1d960d15-0f23-4d56-91e6-059c8a4b8521"
      },
      "source": [
        "\"\"\"\n",
        "Student class\n",
        "\"\"\"\n",
        "\n",
        "# Create a Student class and initialize it with name and roll number. Make methods to :\n",
        "# 1. Display - It should display all informations of the student.\n",
        "# 2. setAge - It should assign age to student\n",
        "# 3. setMarks - It should assign marks to the student.\n",
        "\n",
        "\n",
        "class Student:                                     \n",
        "  def __init__(self, name, roll_num):                 \n",
        "    self.name = name\n",
        "    self.roll_num = roll_num\n",
        "    \n",
        "  def display(self):\n",
        "    return f\"Hi, my name is {self.name} , and my roll number is {self.roll_num}.\"\n",
        "  \n",
        "  def setAge(self,age):\n",
        "    self.age = age\n",
        "    return f\"Hi, my age is {self.age}.\"\n",
        "  \n",
        "  def setMarks(self,marks):\n",
        "    self.marks = marks\n",
        "    return f\"Hi, my marks on the exam is {self.marks}.\"\n",
        "  \n",
        "student1 = Student('Ali Baba', 432567)\n",
        "\n",
        "print(student1.display())\n",
        "print(student1.setAge(19))\n",
        "print(student1.setAge('95%'))"
      ],
      "execution_count": 26,
      "outputs": [
        {
          "output_type": "stream",
          "text": [
            "Hi, my name is Ali Baba , and my roll number is 432567.\n",
            "Hi, my age is 19.\n",
            "Hi, my age is 95%.\n"
          ],
          "name": "stdout"
        }
      ]
    },
    {
      "cell_type": "markdown",
      "metadata": {
        "id": "pkblzCoRRR5i",
        "colab_type": "text"
      },
      "source": [
        "\n",
        "\n",
        "### P4.PY\n",
        "\n",
        "\n"
      ]
    },
    {
      "cell_type": "code",
      "metadata": {
        "id": "0zkjqO5_RR5j",
        "colab_type": "code",
        "colab": {
          "base_uri": "https://localhost:8080/",
          "height": 34
        },
        "outputId": "e39f0a52-80a2-4a61-d89a-e8a4dce168a8"
      },
      "source": [
        "\"\"\"\n",
        "Person class\n",
        "\"\"\"\n",
        "\n",
        "# Create a Person class with the following properties\n",
        "# 1. name\n",
        "# 2. age\n",
        "# 3. social security number\n",
        "\n",
        "class Person:                                     \n",
        "  def __init__(self, name, age, ssnum):                 \n",
        "    self.name = name\n",
        "    self.age = age\n",
        "    self.ssnum = ssnum\n",
        "    \n",
        "  def display(self):\n",
        "    return f\"Hi, my name is {self.name} , and I am a {self.age}, and my social security number is {self.ssnum}\"\n",
        "  \n",
        "  \n",
        "person1 = Person('Kathy Fleshter', '27', 435637896)\n",
        "\n",
        "print(person1.display())"
      ],
      "execution_count": 28,
      "outputs": [
        {
          "output_type": "stream",
          "text": [
            "Hi, my name is Kathy Fleshter , and I am a 27, and my social security number is 435637896\n"
          ],
          "name": "stdout"
        }
      ]
    },
    {
      "cell_type": "markdown",
      "metadata": {
        "id": "J2eF2ASKRR5k",
        "colab_type": "text"
      },
      "source": [
        "\n",
        "\n",
        "### P5.PY\n",
        "\n",
        "\n"
      ]
    },
    {
      "cell_type": "code",
      "metadata": {
        "id": "XOIElo_cRR5l",
        "colab_type": "code",
        "colab": {
          "base_uri": "https://localhost:8080/",
          "height": 34
        },
        "outputId": "3c63c0cd-a507-4b5e-dadf-5d82c7a3a887"
      },
      "source": [
        "\"\"\"\n",
        "Vehicle class\n",
        "\"\"\"\n",
        "\n",
        "# Create a Vehicle class with the following properties\n",
        "\n",
        "# * name\n",
        "# * kind\n",
        "# * color\n",
        "# * value\n",
        "\n",
        "# It should also have a description method that returns something like:\n",
        "# \"{name} is a {color} {kind} worth {value}.\"\n",
        "\n",
        "\n",
        "class Vehicle:                                     \n",
        "  def __init__(self, name, kind, color, value):                 \n",
        "    self.name = name\n",
        "    self.kind = kind\n",
        "    self.color = color\n",
        "    self.value = value\n",
        "    \n",
        "  def display(self):\n",
        "    return f\"The name of the car is {self.name}, the model is {self.kind}, the color is {self.color}, and the licence plate is {self.value}\"\n",
        "  \n",
        "  \n",
        "vehicle1 = Vehicle('MY_FIRST_CAR', 'Nissan Sentra', 'Sporty Red', 'ACE 2367')\n",
        "\n",
        "print(vehicle1.display())"
      ],
      "execution_count": 29,
      "outputs": [
        {
          "output_type": "stream",
          "text": [
            "The name of the car is MY_FIRST_CAR, the model is Nissan Sentra, the color is Sporty Red, and the licence plate is ACE 2367\n"
          ],
          "name": "stdout"
        }
      ]
    },
    {
      "cell_type": "markdown",
      "metadata": {
        "id": "IVLXakm_RR5n",
        "colab_type": "text"
      },
      "source": [
        "\n",
        "\n",
        "## WEDDING_GUESTS\n",
        "\n",
        "### P1.PY\n",
        "\n",
        "\n"
      ]
    },
    {
      "cell_type": "code",
      "metadata": {
        "id": "DiLJgBGdRR5n",
        "colab_type": "code",
        "colab": {
          "base_uri": "https://localhost:8080/",
          "height": 130
        },
        "outputId": "6b57b85e-78db-46d9-fb00-3d29b1fd81d4"
      },
      "source": [
        "\"\"\"\n",
        "Weddings I - Guest List\n",
        "\"\"\"\n",
        "\n",
        "# Imagine for this problem set that you are planning a wedding. \n",
        "\n",
        "\n",
        "# A) Define a class called \"Guest\" to help you manage all the information about each invitee. This should initially include instance attributes\n",
        "# for the guests's name, phone, and an optional \"invite_sent\" that defaults to False. \n",
        "# Guest should also include an instance method called \"send_invite()\", which changes the value of invite_sent to True once you \n",
        "# send an invitation to that guest.\n",
        "\n",
        "class Guest:                                     \n",
        "  def __init__(self, name, phone, invite_sent = False):                 \n",
        "    self.name = name\n",
        "    self.phone = phone\n",
        "    self.invite_sent = invite_sent\n",
        "    \n",
        "  def describe(self):\n",
        "    return f\"Name of guest is {self.name}. Phone number is {self.phone} and Invite sent status is {self.invite_sent}\"\n",
        "    \n",
        "  def send_invite(self):\n",
        "    self.invite_sent = True\n",
        "    return f\"Invite sent status is now {self.invite_sent}\"\n",
        "  \n",
        "  \n",
        "guest1 = Guest('Ali Tobby', '4845123546')\n",
        "\n",
        "print(guest1.describe())\n",
        "print(guest1.send_invite())\n",
        "\n",
        "# B) Next, define a child class called \"Bridesmaid\", which includes the same initial attributes and inherits Guest's instance method.\n",
        "\n",
        "class Bridesmaid(Guest):                                                     \n",
        "    ## Insert code here ##\n",
        "\n",
        "  guest1 = Bridesmaid('Ali Tobby', '4845123546')\n",
        "\n",
        "print(guest1.describe())    \n",
        "\n",
        "\n",
        "# C) Finally, create at least one instance of each class and do the following:\n",
        "### Call send_invite() on each instance.\n",
        "### Check whether Bridesmaid is a child of Guest and vice versa."
      ],
      "execution_count": 36,
      "outputs": [
        {
          "output_type": "error",
          "ename": "IndentationError",
          "evalue": "ignored",
          "traceback": [
            "\u001b[0;36m  File \u001b[0;32m\"<ipython-input-36-63860ca68df6>\"\u001b[0;36m, line \u001b[0;32m36\u001b[0m\n\u001b[0;31m    guest1 = Bridesmaid('Ali Tobby', '4845123546')\u001b[0m\n\u001b[0m         ^\u001b[0m\n\u001b[0;31mIndentationError\u001b[0m\u001b[0;31m:\u001b[0m expected an indented block\n"
          ]
        }
      ]
    },
    {
      "cell_type": "markdown",
      "metadata": {
        "id": "Gx9JfYJURR5q",
        "colab_type": "text"
      },
      "source": [
        "\n",
        "\n",
        "### P2.PY\n",
        "\n",
        "\n"
      ]
    },
    {
      "cell_type": "code",
      "metadata": {
        "id": "uTNeidHcRR5r",
        "colab_type": "code",
        "colab": {}
      },
      "source": [
        "\"\"\"\n",
        "Weddings II - Record Bridesmaid RSVPs\n",
        "\"\"\"\n",
        "\n",
        "# Create a method in Guest to record a guests's rsvp to your invitation. It should record whether they have any dietary restrictions (e.g. vegetarian, kosher, halal, etc.) and whether they're bringing a plus one. If they are bringing a plus one, it should record the name of the plus one and his/her dietary restrictions if any. These values should be stored in instance attributes.\n",
        "\n",
        "# Try out this method on at least one instance of Guest and at least one instance of Bridesmaid."
      ],
      "execution_count": 0,
      "outputs": []
    },
    {
      "cell_type": "markdown",
      "metadata": {
        "id": "-TEZf6A-RR5v",
        "colab_type": "text"
      },
      "source": [
        "\n",
        "\n",
        "### P3.PY\n",
        "\n",
        "\n"
      ]
    },
    {
      "cell_type": "code",
      "metadata": {
        "id": "ztYCxONFRR5w",
        "colab_type": "code",
        "colab": {}
      },
      "source": [
        "\"\"\"\n",
        "Weddings III - Record Shower & Bachelorette RSVP\n",
        "\"\"\"\n",
        "\n",
        "# Create two methods in Bridesmaid to record a the bridesmaid's rsvp to the bridal shower and the bachelorette party. You can call them \"record_shower_rsvp()\" and \"record_bachelorette_rsvp()\". They will work just like the general \"record_rsvp()\" except there will be no plus ones or diet questions. Their rsvp answers should be stored in instance attributes with the same name (i.e. shower_rsvp & bachelorette_rsvp)."
      ],
      "execution_count": 0,
      "outputs": []
    },
    {
      "cell_type": "markdown",
      "metadata": {
        "id": "bNi6GXpaRR5y",
        "colab_type": "text"
      },
      "source": [
        "\n"
      ]
    }
  ]
}