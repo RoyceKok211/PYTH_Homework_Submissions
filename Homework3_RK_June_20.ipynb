{
  "nbformat": 4,
  "nbformat_minor": 0,
  "metadata": {
    "colab": {
      "name": "Homework3 RK June 20.ipynb",
      "version": "0.3.2",
      "provenance": []
    },
    "kernelspec": {
      "name": "python3",
      "display_name": "Python 3"
    }
  },
  "cells": [
    {
      "cell_type": "markdown",
      "metadata": {
        "id": "Tz2WqkIi1-Dt",
        "colab_type": "text"
      },
      "source": [
        "<a href=\"https://colab.research.google.com/github/mottaquikarim/PYTH2/blob/master/src/PSETS/nb/Homework4.ipynb\" target=\"_parent\"><img src=\"https://colab.research.google.com/assets/colab-badge.svg\" alt=\"Open In Colab\"/></a>"
      ]
    },
    {
      "cell_type": "markdown",
      "metadata": {
        "id": "x0wWW3DI1-Dv",
        "colab_type": "text"
      },
      "source": [
        "#  LOOPS\n",
        "\n",
        "## CONTROL_FLOW\n",
        "\n",
        "### P1.PY\n",
        "\n",
        "\n"
      ]
    },
    {
      "cell_type": "code",
      "metadata": {
        "id": "EaNE2rjb1-Dw",
        "colab_type": "code",
        "outputId": "5d8de170-2fef-4bb9-fa49-8cda29a28cce",
        "colab": {
          "base_uri": "https://localhost:8080/",
          "height": 87
        }
      },
      "source": [
        "\"\"\"\n",
        "Control Flow - I\n",
        "\"\"\"\n",
        "\n",
        "# Print the numbers in the range (5:12) until you find a factor of 4. If the range the user enters contains no factors of 4, print \"There are no factors of 4 in this interval.\"\n",
        "# HINT: for the range 5,12 there will likely be multiples of 4 present - to assert the final requirement, try changing range boundaries\n",
        "\n",
        "\n",
        "\n",
        "def factor_four(a,b):    ## how to loop through to check if there is no factors in this range\n",
        "  isfactor = []\n",
        "  isnotfactor=[]\n",
        "  for index in range(a,b): \n",
        "    if index %4 == 0:\n",
        "      isfactor.append(index)\n",
        "      break\n",
        "    else: \n",
        "      isnotfactor.append(index)  \n",
        "  return isnotfactor, isfactor\n",
        "\n",
        "factor1 = factor_four(5,12)\n",
        "print(factor1)\n",
        "user_input_a = int(input('Enter first number: '))\n",
        "user_input_b = int(input('Enter second number: '))\n",
        "factor2 = factor_four(user_input_a, user_input_b)\n",
        "print(factor2)\n",
        "\n"
      ],
      "execution_count": 0,
      "outputs": [
        {
          "output_type": "stream",
          "text": [
            "([5, 6, 7], [8])\n",
            "Enter first number: 3\n",
            "Enter second number: 5\n",
            "([3], [4])\n"
          ],
          "name": "stdout"
        }
      ]
    },
    {
      "cell_type": "markdown",
      "metadata": {
        "id": "yK6gmeV81-Dz",
        "colab_type": "text"
      },
      "source": [
        "\n",
        "\n",
        "### P2.PY\n",
        "\n",
        "\n"
      ]
    },
    {
      "cell_type": "code",
      "metadata": {
        "id": "XZkB99_q1-Dz",
        "colab_type": "code",
        "outputId": "fd04cd11-ba5c-47ce-93e2-de3b09fee2a6",
        "colab": {
          "base_uri": "https://localhost:8080/",
          "height": 35
        }
      },
      "source": [
        "\"\"\"\n",
        "Control Flow II\n",
        "\"\"\"\n",
        "\n",
        "# Write a Python program that prints all the numbers from 0 to 6 except 3 and 6. Note : Use 'continue' statement. \n",
        "\n",
        "a = []\n",
        "for index in range(0,7):    # from 0 to 7 to include 6 as well \n",
        "  #print('current index is',index)\n",
        "  if index == 3:\n",
        "    continue\n",
        "  elif index == 6:\n",
        "    continue\n",
        "  else: \n",
        "    a.append(index)  \n",
        "      \n",
        "print(a)\n",
        "\n"
      ],
      "execution_count": 0,
      "outputs": [
        {
          "output_type": "stream",
          "text": [
            "[0, 1, 2, 4, 5]\n"
          ],
          "name": "stdout"
        }
      ]
    },
    {
      "cell_type": "markdown",
      "metadata": {
        "id": "xY6IHKoK1-D2",
        "colab_type": "text"
      },
      "source": [
        "\n",
        "\n",
        "## DICT_LOOPS\n",
        "\n",
        "### P1.PY\n",
        "\n",
        "\n"
      ]
    },
    {
      "cell_type": "code",
      "metadata": {
        "id": "-v5y9vNB1-D3",
        "colab_type": "code",
        "outputId": "ed783241-535b-4974-8bb9-f0f65e48873a",
        "colab": {
          "base_uri": "https://localhost:8080/",
          "height": 193
        }
      },
      "source": [
        "\"\"\"\n",
        "Contacts\n",
        "\"\"\"\n",
        "\n",
        "# You went to a conference and got people to sign up for text updates from your startup. \n",
        "# Go through this dict to make the phone numbers readable to a computer. \n",
        "\n",
        "# Hint: It can't include any non-numeric characters.\n",
        "\n",
        "contacts = {\n",
        "\t'Jamie': '1.192.168.0143',\n",
        "\t'Kartik': '1.837.209.1121',\n",
        "\t'Grant': '1.826.386.1758',\n",
        "\t'Brandon': '1.935.297.9447',\n",
        "\t'Monique': '1.702.716.5353',\n",
        "\t'Sohom': '1.576.619.6100',\n",
        "}\n",
        "\n",
        "print('-----Method A: loop through and find non numerical char----')\n",
        "for key, value in contacts.items():  # convert it to key / value\n",
        "  #print(f'{key}: {value}')\n",
        "  new_number = \"\"\n",
        "  for char in value:\n",
        "    if char is not '.':\n",
        "      new_number = new_number + char\n",
        "  print(key,new_number)\n",
        "\n",
        "# another way\n",
        "print('------Method B: find and replace method-----')\n",
        "\n",
        "for key, value in contacts.items():\n",
        "  new_number = \"\"\n",
        "  new_number = value.replace (\".\",'')\n",
        "  contacts.update({key : new_number})\n",
        "  contacts.update({key : int(new_number)}) #cast it into an int\n",
        "\n",
        "print(contacts)"
      ],
      "execution_count": 0,
      "outputs": [
        {
          "output_type": "stream",
          "text": [
            "-----Method A: loop through and find non numerical char----\n",
            "Jamie 11921680143\n",
            "Kartik 18372091121\n",
            "Grant 18263861758\n",
            "Brandon 19352979447\n",
            "Monique 17027165353\n",
            "Sohom 15766196100\n",
            "------Method B: find and replace method-----\n",
            "{'Jamie': 11921680143, 'Kartik': 18372091121, 'Grant': 18263861758, 'Brandon': 19352979447, 'Monique': 17027165353, 'Sohom': 15766196100}\n"
          ],
          "name": "stdout"
        }
      ]
    },
    {
      "cell_type": "markdown",
      "metadata": {
        "id": "cMDbOTBs1-D5",
        "colab_type": "text"
      },
      "source": [
        "\n",
        "\n",
        "### P2.PY\n",
        "\n",
        "\n"
      ]
    },
    {
      "cell_type": "code",
      "metadata": {
        "id": "gtylKqGq1-D5",
        "colab_type": "code",
        "outputId": "37d0af9d-7fb5-44bb-effa-ffff5b187620",
        "colab": {
          "base_uri": "https://localhost:8080/",
          "height": 227
        }
      },
      "source": [
        "\"\"\"\n",
        "Grades\n",
        "\"\"\"\n",
        "# Here's a dict containing students' grades from the semester's assignments.\n",
        "\n",
        "students = {\n",
        "  'Ashton': [86, 45, 98, 100],\n",
        "  'Sierra': [100, 100, 100, 100],\n",
        "  'Zach': [38, 49, 90, 87],\n",
        "  'Manuel': [98, 92, 86, 100],\n",
        "  'Felicia': [94, 87, 89, 95],\n",
        "  'Ankur': [75, 77, 77, 85],\n",
        "  'Ananya': [98, 94, 87, 92],\n",
        "  'Nick': [79, 84, 89, 90],\n",
        "  'Olivia': [83, 91, 69, 85],\n",
        "  'Molly': [83, 74, 72, 90]\n",
        "}\n",
        "\n",
        "# p 1.1) Create a dict called num_grades to store each student's average numerical grade for the semester.\n",
        "    \n",
        "num_grades = {}                      \n",
        "for key, value in students.items():\n",
        "  print(key,value)\n",
        "  sum = 0\n",
        "  for item in value:\n",
        "    sum = sum + item\n",
        "    average = sum / 4\n",
        "  #print(average)  \n",
        "  #print (key,average)\n",
        "  num_grades.update({key:average})\n",
        "print(num_grades)\n",
        "\n",
        "# p 1.2) Create a dict called letter_grades to store each student's final letter grade for the semester. Use A, B, C, D, and F as grades per the standard grading scale.\n",
        "\n",
        "# letter_grades = \n",
        "\n",
        "\n",
        "\n",
        "# p 1.3) Create a list of honor roll students (i.e. students who got A's).\n",
        "\n",
        "# honor_roll "
      ],
      "execution_count": 0,
      "outputs": [
        {
          "output_type": "stream",
          "text": [
            "Ashton [86, 45, 98, 100]\n",
            "Sierra [100, 100, 100, 100]\n",
            "Zach [38, 49, 90, 87]\n",
            "Manuel [98, 92, 86, 100]\n",
            "Felicia [94, 87, 89, 95]\n",
            "Ankur [75, 77, 77, 85]\n",
            "Ananya [98, 94, 87, 92]\n",
            "Nick [79, 84, 89, 90]\n",
            "Olivia [83, 91, 69, 85]\n",
            "Molly [83, 74, 72, 90]\n",
            "{'Ashton': 82.25, 'Sierra': 100.0, 'Zach': 66.0, 'Manuel': 94.0, 'Felicia': 91.25, 'Ankur': 78.5, 'Ananya': 92.75, 'Nick': 85.5, 'Olivia': 82.0, 'Molly': 79.75}\n"
          ],
          "name": "stdout"
        }
      ]
    },
    {
      "cell_type": "markdown",
      "metadata": {
        "id": "bps_JYpo1-D7",
        "colab_type": "text"
      },
      "source": [
        "\n",
        "\n",
        "### P3.PY\n",
        "\n",
        "\n"
      ]
    },
    {
      "cell_type": "code",
      "metadata": {
        "id": "DUappRX01-D8",
        "colab_type": "code",
        "outputId": "07adadc1-cec8-4dc0-a193-35e0af0d83a8",
        "colab": {
          "base_uri": "https://localhost:8080/",
          "height": 138
        }
      },
      "source": [
        "\"\"\"\n",
        "Price Inventory\n",
        "\"\"\"\n",
        "\n",
        "# Imagine you're the owner of an Italian restaurant.\n",
        "# You're evaluating your pricing to make sure it's up to date with the latest costs of making each menu item \n",
        "# (see the menu prices and costs dicts below). Evaluate whether each item's price returns a profit margin of at least $1.00. \n",
        "# If it doesn't, update the menu_prices dict with a new price that gives the item a $1.00 profit margin.\n",
        "# Then print out the items which you've repriced in a new dict called price_increases.\n",
        "\n",
        "menu_prices = {\n",
        "\t'fettuccine bolognese': 14.99,\n",
        "\t'gnocchi gorgonzola': 10.99,\n",
        "\t'chicken parmigiano': 13.99,\n",
        "\t'butternut squash risotto': 9.99,\n",
        "\t'spaghetti carbonara': 12.99,\n",
        "\t'pizza margherita': 12.99,\n",
        "\t'chicken marsala': 13.99\n",
        "}\n",
        "\n",
        "menu_costs = {\n",
        "\t'fettuccine bolognese': 12.50,\n",
        "\t'gnocchi gorgonzola': 11.25,\n",
        "\t'chicken parmigiano': 11.75,\n",
        "\t'butternut squash risotto': 6.33,\n",
        "\t'spaghetti carbonara': 12.90,\n",
        "\t'pizza margherita': 14.00,\n",
        "\t'chicken marsala': 11.75\n",
        "}\n",
        "\n",
        "def price_check(p,c):\n",
        "  price = p.items()\n",
        "  cost = c.items()\n",
        "  for food1, price1 in price:   ## Not sure how to call for two variables here\n",
        "#     price1                    ## price - cost\n",
        "#  if price - cost < 1:\n",
        "#       update the price to $1    \n",
        "#     else: \n",
        "#       do nothing  \n",
        "    print(food,price)\n",
        "\n",
        "  \n",
        "price_check(menu_prices, menu_costs)   \n"
      ],
      "execution_count": 0,
      "outputs": [
        {
          "output_type": "stream",
          "text": [
            "fettuccine bolognese 14.99\n",
            "gnocchi gorgonzola 10.99\n",
            "chicken parmigiano 13.99\n",
            "butternut squash risotto 9.99\n",
            "spaghetti carbonara 12.99\n",
            "pizza margherita 12.99\n",
            "chicken marsala 13.99\n"
          ],
          "name": "stdout"
        }
      ]
    },
    {
      "cell_type": "markdown",
      "metadata": {
        "id": "SX-g5Jgj1-D-",
        "colab_type": "text"
      },
      "source": [
        "\n",
        "\n",
        "## SHAPES\n",
        "\n",
        "### P1.PY\n",
        "\n",
        "\n"
      ]
    },
    {
      "cell_type": "code",
      "metadata": {
        "id": "88S5hUdo1-D_",
        "colab_type": "code",
        "outputId": "e27b963a-6885-4f92-916f-5227127dd3d3",
        "colab": {
          "base_uri": "https://localhost:8080/",
          "height": 104
        }
      },
      "source": [
        "\"\"\"\n",
        "Build a Triangle\n",
        "\"\"\"\n",
        "\n",
        "# Use a while loop to print a 5-level triangle of stars that looks like this:\n",
        "\n",
        "\"\"\"\n",
        "*\n",
        "**\n",
        "***\n",
        "****\n",
        "*****\n",
        "\"\"\"\n",
        "\n",
        "row = 0\n",
        "\n",
        "while row < 5:\n",
        "  star = row + 1\n",
        "  while star > 0:\n",
        "   print('*', end ='')\n",
        "   star = star-1\n",
        "  row = row + 1\n",
        "  print(\" \")\n",
        "\n"
      ],
      "execution_count": 0,
      "outputs": [
        {
          "output_type": "stream",
          "text": [
            "* \n",
            "** \n",
            "*** \n",
            "**** \n",
            "***** \n"
          ],
          "name": "stdout"
        }
      ]
    },
    {
      "cell_type": "markdown",
      "metadata": {
        "id": "eb-6CPQt1-EB",
        "colab_type": "text"
      },
      "source": [
        "\n",
        "\n",
        "### P2.PY\n",
        "\n",
        "\n"
      ]
    },
    {
      "cell_type": "code",
      "metadata": {
        "id": "uYHnBRmb1-EC",
        "colab_type": "code",
        "outputId": "2adf539a-0bef-44c3-ee24-5250a09b175a",
        "colab": {
          "base_uri": "https://localhost:8080/",
          "height": 104
        }
      },
      "source": [
        "\"\"\"\n",
        "Build a Pyramid\n",
        "\"\"\"\n",
        "\n",
        "# Use a while loop to print a pyramid of stars that looks like this:\n",
        "\n",
        "\"\"\"\n",
        "    *\n",
        "   ***\n",
        "  *****\n",
        " *******\n",
        "*********\n",
        "\"\"\"\n",
        "\n",
        "row = 0\n",
        "end_row = 5\n",
        "\n",
        "while row < end_row:\n",
        "  spaces = end_row - row - 1 # spaces need to be reset everytime\n",
        "  # to print spaces\n",
        "  while spaces > 0: \n",
        "    print(\" \", end = \"\")\n",
        "    spaces = spaces-1\n",
        "  stars = (2*row) + 1    # stars need to be reset everytime\n",
        "  # to print stars\n",
        "  while stars > 0:\n",
        "    print(\"*\", end = \"\")\n",
        "    stars = stars -1\n",
        "  # get to the new row\n",
        "  row = row+1\n",
        "  print (\" \")\n",
        "  \n",
        "\n"
      ],
      "execution_count": 0,
      "outputs": [
        {
          "output_type": "stream",
          "text": [
            "    * \n",
            "   *** \n",
            "  ***** \n",
            " ******* \n",
            "********* \n"
          ],
          "name": "stdout"
        }
      ]
    },
    {
      "cell_type": "markdown",
      "metadata": {
        "id": "fexa_RcM1-EF",
        "colab_type": "text"
      },
      "source": [
        "\n",
        "\n",
        "### P3.PY\n",
        "\n",
        "\n"
      ]
    },
    {
      "cell_type": "code",
      "metadata": {
        "id": "3wCMEGF71-EH",
        "colab_type": "code",
        "outputId": "f3095e5a-f7c2-4ea0-fdd7-1513e76211c3",
        "colab": {
          "base_uri": "https://localhost:8080/",
          "height": 173
        }
      },
      "source": [
        "\"\"\"\n",
        "Build a Diamond\n",
        "\"\"\"\n",
        "\n",
        "# Use a while loop to print a diamond of stars that looks like this:\n",
        "\n",
        "\"\"\"\n",
        "    *\n",
        "   ***\n",
        "  *****\n",
        " *******\n",
        "*********\n",
        " *******\n",
        "  *****\n",
        "   ***\n",
        "    *\n",
        "\"\"\"\n",
        "\n",
        "\n",
        "row = 0\n",
        "end_row = 5\n",
        "\n",
        "while row < end_row:\n",
        "  spaces = end_row - row - 1 # spaces need to be reset everytime\n",
        "  # to print spaces\n",
        "  while spaces > 0: \n",
        "    print(\" \", end = \"\")\n",
        "    spaces = spaces-1\n",
        "  stars = (2*row) + 1    # stars need to be reset everytime\n",
        "  # to print stars\n",
        "  while stars > 0:\n",
        "    print(\"*\", end = \"\")\n",
        "    stars = stars -1\n",
        "  # get to the new row\n",
        "  row = row+1\n",
        "  print (\" \")\n",
        "\n",
        "# this is the area where I wanted to work on the second pyramid  \n",
        "second_end_row = 9\n",
        "row_b = 1\n",
        "while end_row < second_end_row:\n",
        "  spaces = row_b # spaces need to be reset everytime \n",
        "  # to print spaces\n",
        "  while spaces > 0:\n",
        "    print (\" \", end =\"\")\n",
        "    spaces=spaces -1\n",
        "  stars = 9 - (2*row_b)    # stars need to be reset everytime\n",
        "  # to print stars\n",
        "  while stars > 0:\n",
        "    print(\"*\", end = \"\")\n",
        "    stars = stars -1\n",
        "  # get to the new row\n",
        "  row_b = row_b+1\n",
        "  end_row = end_row+1\n",
        "  print (\" \")"
      ],
      "execution_count": 0,
      "outputs": [
        {
          "output_type": "stream",
          "text": [
            "    * \n",
            "   *** \n",
            "  ***** \n",
            " ******* \n",
            "********* \n",
            " ******* \n",
            "  ***** \n",
            "   *** \n",
            "    * \n"
          ],
          "name": "stdout"
        }
      ]
    },
    {
      "cell_type": "markdown",
      "metadata": {
        "id": "BNiFcwrT1-EK",
        "colab_type": "text"
      },
      "source": [
        "\n",
        "\n",
        "## LOOP_CHALLENGES\n",
        "\n",
        "### P1.PY\n",
        "\n",
        "\n"
      ]
    },
    {
      "cell_type": "code",
      "metadata": {
        "id": "k7stLNqu1-EL",
        "colab_type": "code",
        "colab": {}
      },
      "source": [
        "\"\"\"\n",
        "Valid Passwords\n",
        "\"\"\"\n",
        "\n",
        "# Check the validity of password input by users based on the below security requirements: At least 1 letter between [a-z] and 1 letter between [A-Z].\n",
        "\"\"\"\n",
        "# At least 1 letter between [a-z] and 1 letter between [A-Z].\n",
        "#At least 1 number between [0-9].\n",
        "At least 1 character from [$#@].\n",
        "Minimum length 6 characters.\n",
        "Maximum length 16 characters.\n",
        "\"\"\"\n",
        "\n",
        "\n",
        "# Hint: Look up the documentation for the \"re\" library and it's \".search()\" method.\n",
        "\n",
        "# p = input(\"Input your password: \")"
      ],
      "execution_count": 0,
      "outputs": []
    },
    {
      "cell_type": "markdown",
      "metadata": {
        "id": "BE485LbY1-EN",
        "colab_type": "text"
      },
      "source": [
        "\n",
        "\n",
        "### P2.PY\n",
        "\n",
        "\n"
      ]
    },
    {
      "cell_type": "code",
      "metadata": {
        "id": "coSh9ncD1-EN",
        "colab_type": "code",
        "colab": {}
      },
      "source": [
        "\"\"\"\n",
        "Prime Numbers I\n",
        "\"\"\"\n",
        "\n",
        "# Check if a number input by a user is prime or not. If it is NOT a prime number, print out that it is not a prime number. If it IS a prime number, print out that it is a prime number and give an example of two of its factors. Hint: Prime numbers must be greater than 1.\n",
        "\n",
        "# Example of output for a NON-prime:\n",
        "# 12 is not a prime number\n",
        "# For example, 2 x 6 = 12\n",
        "\n",
        "\n",
        "\n",
        "# user_input = input(\"Enter a number to check if it's prime: \")\n",
        "\n"
      ],
      "execution_count": 0,
      "outputs": []
    },
    {
      "cell_type": "markdown",
      "metadata": {
        "id": "RcMyW2dz1-EP",
        "colab_type": "text"
      },
      "source": [
        "\n"
      ]
    }
  ]
}